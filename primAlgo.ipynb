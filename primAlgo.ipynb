{
 "cells": [
  {
   "cell_type": "code",
   "execution_count": 1,
   "id": "ec5f9051",
   "metadata": {},
   "outputs": [
    {
     "name": "stdout",
     "output_type": "stream",
     "text": [
      "Edge   Weight\n",
      "0 - 1   2\n",
      "1 - 2   3\n",
      "0 - 3   6\n",
      "1 - 4   5\n"
     ]
    }
   ],
   "source": [
    "import heapq\n",
    "\n",
    "def prim_mst(graph, start):\n",
    "    V = len(graph)  # Number of vertices\n",
    "    key = [float('inf')] * V  # Initialize keys as infinity\n",
    "    parent = [None] * V  # Array to store the parent of each vertex\n",
    "    visited = [False] * V  # Track visited vertices\n",
    "    key[start] = 0  # Start with the given start vertex\n",
    "\n",
    "    # Min-heap priority queue\n",
    "    pq = [(0, start)]  # (key, vertex)\n",
    "\n",
    "    while pq:\n",
    "        # Extract vertex with minimum key value\n",
    "        current_key, u = heapq.heappop(pq)\n",
    "        visited[u] = True\n",
    "\n",
    "        # Traverse all adjacent vertices of u\n",
    "        for v, weight in enumerate(graph[u]):\n",
    "            if not visited[v] and weight != 0 and weight < key[v]:\n",
    "                key[v] = weight\n",
    "                parent[v] = u\n",
    "                heapq.heappush(pq, (key[v], v))\n",
    "\n",
    "    # The parent[] array contains the MST edges\n",
    "    return parent\n",
    "\n",
    "# Example usage:\n",
    "# Graph represented as an adjacency matrix where graph[u][v] is the weight of the edge between u and v.\n",
    "graph = [\n",
    "    [0, 2, 0, 6, 0],\n",
    "    [2, 0, 3, 8, 5],\n",
    "    [0, 3, 0, 0, 7],\n",
    "    [6, 8, 0, 0, 9],\n",
    "    [0, 5, 7, 9, 0]\n",
    "]\n",
    "\n",
    "start_vertex = 0\n",
    "parent = prim_mst(graph, start_vertex)\n",
    "\n",
    "# Print the MST edges by showing the parent array\n",
    "print(\"Edge   Weight\")\n",
    "for i in range(1, len(parent)):\n",
    "    print(f\"{parent[i]} - {i}   {graph[i][parent[i]]}\")\n"
   ]
  },
  {
   "cell_type": "code",
   "execution_count": null,
   "id": "7f80a547",
   "metadata": {},
   "outputs": [],
   "source": []
  }
 ],
 "metadata": {
  "kernelspec": {
   "display_name": "Python 3 (ipykernel)",
   "language": "python",
   "name": "python3"
  },
  "language_info": {
   "codemirror_mode": {
    "name": "ipython",
    "version": 3
   },
   "file_extension": ".py",
   "mimetype": "text/x-python",
   "name": "python",
   "nbconvert_exporter": "python",
   "pygments_lexer": "ipython3",
   "version": "3.11.5"
  }
 },
 "nbformat": 4,
 "nbformat_minor": 5
}

{
 "cells": [
  {
   "cell_type": "code",
   "execution_count": 1,
   "id": "b5f72b91",
   "metadata": {},
   "outputs": [
    {
     "name": "stdout",
     "output_type": "stream",
     "text": [
      "Sorted Array: [1, 2, 2, 3, 3, 4, 8]\n"
     ]
    }
   ],
   "source": [
    "def counting_sort(A):\n",
    "    n = len(A)\n",
    "    if n == 0:\n",
    "        return A\n",
    "    \n",
    "    # Step 1: Find the maximum value in the array\n",
    "    k = max(A)\n",
    "\n",
    "    # Step 2: Initialize count array and output array\n",
    "    count = [0] * (k + 1)\n",
    "    output = [0] * n\n",
    "\n",
    "    # Step 3: Count the occurrences of each number in the input array\n",
    "    for num in A:\n",
    "        count[num] += 1\n",
    "\n",
    "    # Step 4: Modify count array to store the cumulative sum\n",
    "    for i in range(1, len(count)):\n",
    "        count[i] += count[i - 1]\n",
    "\n",
    "    # Step 5: Build the output array by placing elements at correct positions\n",
    "    for i in range(n - 1, -1, -1):\n",
    "        output[count[A[i]] - 1] = A[i]\n",
    "        count[A[i]] -= 1\n",
    "\n",
    "    # Step 6: Copy the sorted elements from output[] back to A[]\n",
    "    for i in range(n):\n",
    "        A[i] = output[i]\n",
    "\n",
    "    return A\n",
    "\n",
    "# Example usage\n",
    "A = [4, 2, 2, 8, 3, 3, 1]\n",
    "sorted_A = counting_sort(A)\n",
    "print(\"Sorted Array:\", sorted_A)\n"
   ]
  },
  {
   "cell_type": "code",
   "execution_count": null,
   "id": "36746a59",
   "metadata": {},
   "outputs": [],
   "source": []
  }
 ],
 "metadata": {
  "kernelspec": {
   "display_name": "Python 3 (ipykernel)",
   "language": "python",
   "name": "python3"
  },
  "language_info": {
   "codemirror_mode": {
    "name": "ipython",
    "version": 3
   },
   "file_extension": ".py",
   "mimetype": "text/x-python",
   "name": "python",
   "nbconvert_exporter": "python",
   "pygments_lexer": "ipython3",
   "version": "3.11.5"
  }
 },
 "nbformat": 4,
 "nbformat_minor": 5
}
